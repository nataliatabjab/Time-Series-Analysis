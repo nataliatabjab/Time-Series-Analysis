{
 "cells": [
  {
   "cell_type": "code",
   "execution_count": 1,
   "metadata": {
    "collapsed": true
   },
   "outputs": [],
   "source": [
    "%matplotlib inline\n",
    "import numpy as np\n",
    "import matplotlib.pyplot as plt"
   ]
  },
  {
   "cell_type": "markdown",
   "metadata": {},
   "source": [
    "# A Notch Digital Filter (6 marks, 3/2/1)"
   ]
  },
  {
   "cell_type": "markdown",
   "metadata": {},
   "source": [
    "A notch filter is a filter that passes almost all frequencies with unit amplitude, except for a narrow\n",
    "range of frequencies centered on the rejection frequency $f_0$ (at which frequency nothing is passed).\n",
    "\n",
    "A simple notch digital filter has a z-transform\n",
    "\n",
    "$$ W(z) = MF(z) F(z)^* = M \\frac{z - q}{z - p} \\frac{z - q^*}{z - p^*} $$\n",
    "\n",
    "where $M$ is a normalization factor, $q = e^{-i 2 \\pi f_0 / f_s}$, $p = (1 + \\epsilon) q$, $f_s$ \n",
    "is the sampling rate ($f_s = 1 / \\Delta$) and $\\epsilon$ is a small positive number ($0 < \\epsilon \\ll 1$).\n",
    "\n",
    " 1. What are the poles and zeros of this system? Where are they located with respect to the unit\n",
    "    circle? Is this a stable system? Is this filter real? \n",
    " 2. Given $f_s = 12 \\text{ cycles/year}$, $f_0 = 1 \\text{ cycle/year}$, $M = 1.05$ and $\\epsilon = 0.05$, plot the\n",
    "    power spectrum $|W(f)|^2=W(f)W(f)^\\ast$ (i.e., square of amplitude spectrum). Sample densely in $[-f_s/2, \\ldots, f_s/2]$ (e.g. 1000 points), where $f_s/2$ is the Nyquist frequency.\n",
    " 3. What is the full-width-half-max (FWHM) value $f_\\text{fwhm}$ of this notch filter (based on the plot)? Which parameter(s) should you change to make the notches sharper, i.e., $f_\\text{fwhm}$ smaller?\n",
    "\n",
    "_Hint_: For Part 2, $W(f)$ is obtained by $W(z = e^{-i \\omega \\Delta}$). For Part 3, you don't have to\n",
    "compute the FWHM value analytically (although it can be done); an inspection of the discrete array of $|W(f)|^2$\n",
    "vector is sufficient. Note here $f_\\text{fwhm}$ is in terms of frequency (1/year), not angular frequency."
   ]
  },
  {
   "cell_type": "markdown",
   "metadata": {},
   "source": [
    "# Implementing the Notch Filter (6 marks, 2/2/1/1)"
   ]
  },
  {
   "cell_type": "markdown",
   "metadata": {},
   "source": [
    "Notch filter introduced in section 1 can be written out fully as\n",
    "\n",
    "$$ W(z) = \\frac{N(z)}{D(z)} = \\frac{a + bz + cz^2}{1 + Bz + Cz^2} $$\n",
    "\n",
    "A filter of the form above can be implemented as two filters in succession: first the 'numerator filter'\n",
    "`[a b c]` as a 3-term direct convolution, then the 'denominator filter' as the inverse filter of the 3-term\n",
    "filter `[1 B C]` by feedback filtering.\n",
    "\n",
    " 1. What are the values of a; b; c; B; C for the notch filter defined in Question 1.2?\n",
    " 2. Write a function for a general rational digital filter with numerator and denominator\n",
    "    coefficients N and D which produces the filtered time series $y$ for a given input $x$,\n",
    "    `y = ratFilter(N,D,x)`. \n",
    " 3. Use `ratFilter` function to determine the impulse response of this notch filter (i.e., the output\n",
    "    of this filter when the input is a discrete delta function). Define the impulse using $dt=1/f_s$ and $t=0$ to $t_{max}=100$ years (i.e. $1200$ samples). Plot the impulse response from $0$ to $6$ years. Speculate on how the impulse response would change if we halve the $f_\\text{fwmh}$ value.\n",
    " 4. Fourier transform the impulse response to obtain the frequency response $|W(f)|$\n",
    "    of this notch filter. Plot it on top of the magnitude of the theoretical spectrum calculated based on the z-transform, with $f$ ranging from $0$ to $6$ cycles per year."
   ]
  },
  {
   "cell_type": "markdown",
   "metadata": {},
   "source": [
    "# Global Mean CH$_4$ Data (6 marks, 1/1/1/1/2)"
   ]
  },
  {
   "cell_type": "markdown",
   "metadata": {},
   "source": [
    "The file `methane_global.csv` (on Quercus) contains globally averaged methane (CH$_4$) values (in parts per billion) every month from July 1983 to October 2023.\n",
    "The measurements show clearly a rising trend in atmospheric CH$_4$. The trend is overlaid with a annual\n",
    "oscillation. Your job is to remove the annual oscillation and display the trend more clearly. There\n",
    "are two possible approaches: (a) you could apply your notch filter to the series to remove this\n",
    "annual variation, or (b) you could Fourier transform it with `fft`, remove the annual variation by\n",
    "setting the spectrum at appropriate frequencies to zero, and transform back to the time domain with\n",
    "`ifft`.\n",
    "\n",
    "Write code to accomplish the following:\n",
    "\n",
    " 1. Before applying the filters, it is helpful to remove the trend of the signal using numpy\n",
    "    function `polyfit`. Fit a straight line to your data and then detrend your data by removing the\n",
    "    straight line. Plot both the original data and the detrended data.\n",
    " 2. Apply your notch filter to the detrended data and add back the trend.\n",
    " 3. FT the detrended data into the frequency domain, and plot both its amplitude and phase\n",
    "    spectrum. Make another plot that zooms in at $f = [0, 2.5] \\text{ cycles per year}$. Now set the\n",
    "    Fourier spectrum corresponding to frequencies beyond $0.9 \\text{ cycles per year}$ to zero, which\n",
    "    effectively removes the annual oscillation. Transform the spectrum back to the time domain and\n",
    "    add back the trend.\n",
    " 4. Now plot the original data, the notch-filtered data from Part 2, and the f-domain filtered data\n",
    "    from Part 3 on top of each other with different colors. Which method gives more satisfactory\n",
    "    result? Can you think of any advantages/disadvantages in using either method?\n",
    " 5. Now try redo Parts 2, 3, and 4 with the original data, not the detrended data. Of course you\n",
    "    don't need to add back the trend after filtering any more. Display your results and comment\n",
    "    on the importance of detrending before applying the filters."
   ]
  }
 ],
 "metadata": {
  "kernelspec": {
   "display_name": "Python 3 (ipykernel)",
   "language": "python",
   "name": "python3"
  },
  "language_info": {
   "codemirror_mode": {
    "name": "ipython",
    "version": 3
   },
   "file_extension": ".py",
   "mimetype": "text/x-python",
   "name": "python",
   "nbconvert_exporter": "python",
   "pygments_lexer": "ipython3",
   "version": "3.10.7"
  }
 },
 "nbformat": 4,
 "nbformat_minor": 1
}
