{
 "cells": [
  {
   "cell_type": "code",
   "execution_count": 1,
   "metadata": {
    "collapsed": true
   },
   "outputs": [],
   "source": [
    "%matplotlib inline\n",
    "import numpy as np\n",
    "import matplotlib.pyplot as plt"
   ]
  },
  {
   "cell_type": "markdown",
   "metadata": {},
   "source": [
    "# A Discrete Convolution Program (5 pts)"
   ]
  },
  {
   "cell_type": "markdown",
   "metadata": {},
   "source": [
    "Write a discrete convolution function `myConv` that convolves two arrays {$f_i, i = 0, \\dots , N_f-1$}\n",
    "and {$w_j, j = 0, \\dots , N_w-1$} to obtain an output time series {$g_n$}. For simplicity, assume a fixed sampling interval $\\Delta = 1$, and further, that $f$ and $w$ are $0$ outside of their sampled regions. \n",
    "\n",
    " 1. How long is {$g_n$}? In other words, how many non-zero points can it have? Justify your answer. \n",
    " 2. Please copy and paste your function `g = myConv(f, w)` to the PDF report.\n",
    " 3. Provide a test to convince yourself (and me) that your function agrees with `numpy.convolve`. For example, generate two random timeseries $f$, $w$ with $N_f=50$, $N_w=100$, drawing each element from $U[0,1]$, and plot the difference between your function's output and numpy's. Include the code for your test in the PDF report.\n",
    " 4. Compare the speed of your `myConv` function to the NumPy function. Provide a plot of the comparison, and include your python code in the PDF report. Is your function faster or slower than the NumPy function? Can you suggest why that is the case?\n",
    "\n",
    "_Hint_: For the speed test part, make up your own $f_i$ and $w_j$ time series, and for simplicity, study the cases\n",
    "of $N_f = N_w = 10, 100, 1000, 10000$. To accurately time each computation of the convolution function, import the\n",
    "time module and place calls to `time.time` around your code:\n",
    "```\n",
    "import time\n",
    "t1 = time.time()\n",
    "g = myConv(f, w)\n",
    "t2 = time.time()\n",
    "print(t2-t1)\n",
    "```\n",
    "Alternatively, use the `timeit` module:\n",
    "```\n",
    "import timeit\n",
    "print(timeit.timeit('g = myConv(f, w)', number=10000))\n",
    "```"
   ]
  },
  {
   "cell_type": "markdown",
   "metadata": {},
   "source": [
    "# Simple Physical System: RL Circuit Response (7 pts)"
   ]
  },
  {
   "cell_type": "markdown",
   "metadata": {},
   "source": [
    "Consider a simple physical system consisting of a resistor (with resistance `R`) and an inductor (with inductance `L`) in series.  We apply an input voltage $a(t)$ across the pair in series, and measure the output\n",
    "voltage $b(t)$ across the inductor alone. For this linear system,\n",
    "\n",
    " 1. Show analytically that its step response (i.e., the $b(t)$ we obtain when the input voltage $a(t) = H(t)$,\n",
    "    the Heaviside function) is given by\n",
    "\n",
    "    $$ S(t) = e^{-Rt/L} H(t), $$\n",
    "\n",
    "    and its impulse response (i.e., the output voltage $b(t)$ when $a(t) = \\delta(t)$) is given by\n",
    "\n",
    "    $$ R(t) = \\delta(t) - \\frac{R}{L} e^{-Rt/L} H(t). $$\n",
    "\n",
    "    _Hint_: Construct and solve the ODE relating the voltages under consideration. Consider the two $b(t)$ choices to derive $S(t)$ and $R(t)$. Formulas $\\frac{d}{dt} H(t) = \\delta(t)$ and $\\delta(t) f(t) = \\delta(t) f(0)$ may help.\n",
    " 2. Discretize the impulse response $R(t)$ function, realizing that $H(t)$ should be discretized as\n",
    "\n",
    "    $$H = [0.5, 1, 1, \\dots],$$\n",
    "\n",
    "    and $\\delta(t)$ should be discretized as\n",
    "\n",
    "    $$D = [1/dt, 0, 0, \\dots].$$\n",
    "\n",
    "    Take advantage of your `myConv` function, or the NumPy built-in function `convolve`, and write\n",
    "    your own Python function `V_out = RLresponse(R,L,V_in,dt)` to take an input series $V_{in}$ sampled\n",
    "    at $\\Delta = dt$, and calculate the output series $V_{out}$ sampled by the same $dt$. Please paste your\n",
    "    Python function here (if you are not using a jupyter notebook). (Hint: here $\\Delta$ may not be 1, so remember to build the multiplication of\n",
    "    $\\Delta$ into your convolution function.)\n",
    " 3. Using $R = 950 \\Omega$, $L = 4 H$, and sampling period $dt = 0.15 \\text{ ms}$, test your RL-response\n",
    "    function with {$H_n$} series (discretized $H(t)$) as input, and plot the output time series (as circles) on\n",
    "    top of the theoretical curve $S(t)$ given by part 1 (as a solid line). Repeat this for {$D_n$} (discretized\n",
    "    $\\delta(t)$) and $R(t)$. Make the time range of the plots 0 to at least 15 ms. Please list your Python\n",
    "    code here (if you are not using a jupyter notebook)."
   ]
  },
  {
   "cell_type": "markdown",
   "metadata": {},
   "source": [
    "# Convolution of Synthetic Seismograms (5 pts)"
   ]
  },
  {
   "cell_type": "markdown",
   "metadata": {},
   "source": [
    "Numerical simulations of seismic wave propagation can now be routinely done for [global and regional\n",
    "earthquakes](http://global.shakemovie.princeton.edu/). For a recent southern Pakistan earthquake (Jan 18,\n",
    "2011, 20:23:33 UTC), raw vertical synthetic seismogram (i.e., displacement field simulated at a seismic\n",
    "station) for station `RAYN` (Ar Rayn, Saudi Arabia) is provided (`RAYN.II.LHZ.sem`). A common practice in\n",
    "seismology is to convolve synthetic seismograms with a Gaussian function\n",
    "\n",
    "$$ g(t) = \\frac{1}{\\sqrt{\\pi}t_H} e^{-(t/t_H)^2} $$\n",
    "\n",
    "to reflect either the time duration of the event or the accuracy of the numerical simulation.\n",
    "\n",
    " 1. Provide two plots. Plot 1: the raw synthetic seismogram for station `RAYN` between 0 and 800 seconds. Plot 2: Gaussian\n",
    "    functions with half duration $t_H = 10 \\text{ sec}$ and $t_H = 20 \\text{ sec}$ (include a legend). For the gaussians, use the same timestep $dt$ as the seismogram data.\n",
    " 2. Use numpy's convolve function to convolve the raw timeseries with a Gaussian function (both $t_H = 10$ and $t_H = 20$ cases). Plot the raw data and the two convolved time series between 0 and 800 seconds on the same graph (include a legend) and comment on the differences in the convolved time series between the two cases.\n",
    "\n",
    "__Hints__\n",
    "\n",
    "* The raw synthetics `RAYN.II.LHZ.sem` is given as a text file with two columns: time in seconds and\n",
    "displacement in meters.\n",
    "* Gaussian functions quickly decay to zero beyond $[-3t_H, 3t_H ]$, therefore it is sufficient to sample $g(t)$\n",
    "within this interval.\n",
    "* Use `mode='same'` when calling numpy convolve to truncate the convolution to the max of the supplied arrays (i.e. length of the raw timeseries in our case). This is convenient, since we want to compare the convolution output to the original timeseries. Alternatively, use the default mode (`'full'`) and truncate the output manually. \n",
    "* As a check for part 2, ensure that your convolved timeseries is aligned with (or \"overlaps\") the raw data timeseries."
   ]
  }
 ],
 "metadata": {
  "kernelspec": {
   "display_name": "Python 3 (ipykernel)",
   "language": "python",
   "name": "python3"
  },
  "language_info": {
   "codemirror_mode": {
    "name": "ipython",
    "version": 3
   },
   "file_extension": ".py",
   "mimetype": "text/x-python",
   "name": "python",
   "nbconvert_exporter": "python",
   "pygments_lexer": "ipython3",
   "version": "3.9.18"
  }
 },
 "nbformat": 4,
 "nbformat_minor": 1
}
